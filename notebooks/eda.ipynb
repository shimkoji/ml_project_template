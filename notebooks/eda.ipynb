{
 "cells": [
  {
   "cell_type": "code",
   "execution_count": 62,
   "metadata": {},
   "outputs": [
    {
     "name": "stdout",
     "output_type": "stream",
     "text": [
      "The autoreload extension is already loaded. To reload it, use:\n",
      "  %reload_ext autoreload\n",
      "CPU times: user 1.26 ms, sys: 2.07 ms, total: 3.33 ms\n",
      "Wall time: 3.82 ms\n"
     ]
    }
   ],
   "source": [
    "%%time\n",
    "# Standard library imports\n",
    "from dataclasses import dataclass\n",
    "from pathlib import Path\n",
    "import sys\n",
    "import json\n",
    "\n",
    "# Third party imports\n",
    "import polars as pl\n",
    "from pandera.typing.polars import LazyFrame\n",
    "\n",
    "# Magic commands\n",
    "%matplotlib inline\n",
    "%load_ext autoreload\n",
    "%autoreload 2\n",
    "\n",
    "\n",
    "@dataclass\n",
    "class Config:\n",
    "    project_dir: Path = Path(\"../\")\n",
    "    data_dir: Path = project_dir / \"data\"\n",
    "    raw_dir: Path = data_dir / \"raw\"\n",
    "    interim_dir: Path = data_dir / \"interim\"\n",
    "    processed_dir: Path = data_dir / \"processed\"\n",
    "\n",
    "\n",
    "config = Config()\n",
    "sys.path.append(str(config.project_dir.resolve()))\n",
    "\n",
    "with open(str(config.project_dir / \"configs/default.json\"), \"r\") as f:\n",
    "    default_config = json.load(f)\n"
   ]
  },
  {
   "cell_type": "code",
   "execution_count": 63,
   "metadata": {},
   "outputs": [
    {
     "name": "stdout",
     "output_type": "stream",
     "text": [
      "CPU times: user 1.77 ms, sys: 8.12 ms, total: 9.89 ms\n",
      "Wall time: 13.8 ms\n"
     ]
    }
   ],
   "source": [
    "%%time\n",
    "df_train = pl.read_csv(config.raw_dir / \"train.csv\")\n",
    "df_test_x = pl.read_csv(config.raw_dir / \"test.csv\")\n",
    "df_test_y = pl.read_csv(config.raw_dir / \"gender_submission.csv\")"
   ]
  },
  {
   "cell_type": "markdown",
   "metadata": {},
   "source": [
    "### EDA"
   ]
  },
  {
   "cell_type": "markdown",
   "metadata": {},
   "source": [
    "1. データのスキーマ確認\n",
    "2. データの欠損状況確認\n",
    "3. データの記述統計量確認"
   ]
  },
  {
   "cell_type": "code",
   "execution_count": 64,
   "metadata": {},
   "outputs": [
    {
     "data": {
      "text/plain": [
       "Schema([('PassengerId', Int64),\n",
       "        ('Survived', Int64),\n",
       "        ('Pclass', Int64),\n",
       "        ('Name', String),\n",
       "        ('Sex', String),\n",
       "        ('Age', Float64),\n",
       "        ('SibSp', Int64),\n",
       "        ('Parch', Int64),\n",
       "        ('Ticket', String),\n",
       "        ('Fare', Float64),\n",
       "        ('Cabin', String),\n",
       "        ('Embarked', String)])"
      ]
     },
     "execution_count": 64,
     "metadata": {},
     "output_type": "execute_result"
    }
   ],
   "source": [
    "df_train.schema"
   ]
  },
  {
   "cell_type": "code",
   "execution_count": 65,
   "metadata": {},
   "outputs": [
    {
     "data": {
      "text/html": [
       "<div><style>\n",
       ".dataframe > thead > tr,\n",
       ".dataframe > tbody > tr {\n",
       "  text-align: right;\n",
       "  white-space: pre-wrap;\n",
       "}\n",
       "</style>\n",
       "<small>shape: (1, 12)</small><table border=\"1\" class=\"dataframe\"><thead><tr><th>PassengerId</th><th>Survived</th><th>Pclass</th><th>Name</th><th>Sex</th><th>Age</th><th>SibSp</th><th>Parch</th><th>Ticket</th><th>Fare</th><th>Cabin</th><th>Embarked</th></tr><tr><td>u32</td><td>u32</td><td>u32</td><td>u32</td><td>u32</td><td>u32</td><td>u32</td><td>u32</td><td>u32</td><td>u32</td><td>u32</td><td>u32</td></tr></thead><tbody><tr><td>0</td><td>0</td><td>0</td><td>0</td><td>0</td><td>177</td><td>0</td><td>0</td><td>0</td><td>0</td><td>687</td><td>2</td></tr></tbody></table></div>"
      ],
      "text/plain": [
       "shape: (1, 12)\n",
       "┌─────────────┬──────────┬────────┬──────┬───┬────────┬──────┬───────┬──────────┐\n",
       "│ PassengerId ┆ Survived ┆ Pclass ┆ Name ┆ … ┆ Ticket ┆ Fare ┆ Cabin ┆ Embarked │\n",
       "│ ---         ┆ ---      ┆ ---    ┆ ---  ┆   ┆ ---    ┆ ---  ┆ ---   ┆ ---      │\n",
       "│ u32         ┆ u32      ┆ u32    ┆ u32  ┆   ┆ u32    ┆ u32  ┆ u32   ┆ u32      │\n",
       "╞═════════════╪══════════╪════════╪══════╪═══╪════════╪══════╪═══════╪══════════╡\n",
       "│ 0           ┆ 0        ┆ 0      ┆ 0    ┆ … ┆ 0      ┆ 0    ┆ 687   ┆ 2        │\n",
       "└─────────────┴──────────┴────────┴──────┴───┴────────┴──────┴───────┴──────────┘"
      ]
     },
     "execution_count": 65,
     "metadata": {},
     "output_type": "execute_result"
    }
   ],
   "source": [
    "df_train.null_count()"
   ]
  },
  {
   "cell_type": "code",
   "execution_count": 66,
   "metadata": {},
   "outputs": [
    {
     "data": {
      "text/html": [
       "<div><style>\n",
       ".dataframe > thead > tr,\n",
       ".dataframe > tbody > tr {\n",
       "  text-align: right;\n",
       "  white-space: pre-wrap;\n",
       "}\n",
       "</style>\n",
       "<small>shape: (9, 13)</small><table border=\"1\" class=\"dataframe\"><thead><tr><th>statistic</th><th>PassengerId</th><th>Survived</th><th>Pclass</th><th>Name</th><th>Sex</th><th>Age</th><th>SibSp</th><th>Parch</th><th>Ticket</th><th>Fare</th><th>Cabin</th><th>Embarked</th></tr><tr><td>str</td><td>f64</td><td>f64</td><td>f64</td><td>str</td><td>str</td><td>f64</td><td>f64</td><td>f64</td><td>str</td><td>f64</td><td>str</td><td>str</td></tr></thead><tbody><tr><td>&quot;count&quot;</td><td>891.0</td><td>891.0</td><td>891.0</td><td>&quot;891&quot;</td><td>&quot;891&quot;</td><td>714.0</td><td>891.0</td><td>891.0</td><td>&quot;891&quot;</td><td>891.0</td><td>&quot;204&quot;</td><td>&quot;889&quot;</td></tr><tr><td>&quot;null_count&quot;</td><td>0.0</td><td>0.0</td><td>0.0</td><td>&quot;0&quot;</td><td>&quot;0&quot;</td><td>177.0</td><td>0.0</td><td>0.0</td><td>&quot;0&quot;</td><td>0.0</td><td>&quot;687&quot;</td><td>&quot;2&quot;</td></tr><tr><td>&quot;mean&quot;</td><td>446.0</td><td>0.383838</td><td>2.308642</td><td>null</td><td>null</td><td>29.699118</td><td>0.523008</td><td>0.381594</td><td>null</td><td>32.204208</td><td>null</td><td>null</td></tr><tr><td>&quot;std&quot;</td><td>257.353842</td><td>0.486592</td><td>0.836071</td><td>null</td><td>null</td><td>14.526497</td><td>1.102743</td><td>0.806057</td><td>null</td><td>49.693429</td><td>null</td><td>null</td></tr><tr><td>&quot;min&quot;</td><td>1.0</td><td>0.0</td><td>1.0</td><td>&quot;Abbing, Mr. Anthony&quot;</td><td>&quot;female&quot;</td><td>0.42</td><td>0.0</td><td>0.0</td><td>&quot;110152&quot;</td><td>0.0</td><td>&quot;A10&quot;</td><td>&quot;C&quot;</td></tr><tr><td>&quot;25%&quot;</td><td>224.0</td><td>0.0</td><td>2.0</td><td>null</td><td>null</td><td>20.0</td><td>0.0</td><td>0.0</td><td>null</td><td>7.925</td><td>null</td><td>null</td></tr><tr><td>&quot;50%&quot;</td><td>446.0</td><td>0.0</td><td>3.0</td><td>null</td><td>null</td><td>28.0</td><td>0.0</td><td>0.0</td><td>null</td><td>14.4542</td><td>null</td><td>null</td></tr><tr><td>&quot;75%&quot;</td><td>669.0</td><td>1.0</td><td>3.0</td><td>null</td><td>null</td><td>38.0</td><td>1.0</td><td>0.0</td><td>null</td><td>31.0</td><td>null</td><td>null</td></tr><tr><td>&quot;max&quot;</td><td>891.0</td><td>1.0</td><td>3.0</td><td>&quot;van Melkebeke, Mr. Philemon&quot;</td><td>&quot;male&quot;</td><td>80.0</td><td>8.0</td><td>6.0</td><td>&quot;WE/P 5735&quot;</td><td>512.3292</td><td>&quot;T&quot;</td><td>&quot;S&quot;</td></tr></tbody></table></div>"
      ],
      "text/plain": [
       "shape: (9, 13)\n",
       "┌────────────┬─────────────┬──────────┬──────────┬───┬───────────┬───────────┬───────┬──────────┐\n",
       "│ statistic  ┆ PassengerId ┆ Survived ┆ Pclass   ┆ … ┆ Ticket    ┆ Fare      ┆ Cabin ┆ Embarked │\n",
       "│ ---        ┆ ---         ┆ ---      ┆ ---      ┆   ┆ ---       ┆ ---       ┆ ---   ┆ ---      │\n",
       "│ str        ┆ f64         ┆ f64      ┆ f64      ┆   ┆ str       ┆ f64       ┆ str   ┆ str      │\n",
       "╞════════════╪═════════════╪══════════╪══════════╪═══╪═══════════╪═══════════╪═══════╪══════════╡\n",
       "│ count      ┆ 891.0       ┆ 891.0    ┆ 891.0    ┆ … ┆ 891       ┆ 891.0     ┆ 204   ┆ 889      │\n",
       "│ null_count ┆ 0.0         ┆ 0.0      ┆ 0.0      ┆ … ┆ 0         ┆ 0.0       ┆ 687   ┆ 2        │\n",
       "│ mean       ┆ 446.0       ┆ 0.383838 ┆ 2.308642 ┆ … ┆ null      ┆ 32.204208 ┆ null  ┆ null     │\n",
       "│ std        ┆ 257.353842  ┆ 0.486592 ┆ 0.836071 ┆ … ┆ null      ┆ 49.693429 ┆ null  ┆ null     │\n",
       "│ min        ┆ 1.0         ┆ 0.0      ┆ 1.0      ┆ … ┆ 110152    ┆ 0.0       ┆ A10   ┆ C        │\n",
       "│ 25%        ┆ 224.0       ┆ 0.0      ┆ 2.0      ┆ … ┆ null      ┆ 7.925     ┆ null  ┆ null     │\n",
       "│ 50%        ┆ 446.0       ┆ 0.0      ┆ 3.0      ┆ … ┆ null      ┆ 14.4542   ┆ null  ┆ null     │\n",
       "│ 75%        ┆ 669.0       ┆ 1.0      ┆ 3.0      ┆ … ┆ null      ┆ 31.0      ┆ null  ┆ null     │\n",
       "│ max        ┆ 891.0       ┆ 1.0      ┆ 3.0      ┆ … ┆ WE/P 5735 ┆ 512.3292  ┆ T     ┆ S        │\n",
       "└────────────┴─────────────┴──────────┴──────────┴───┴───────────┴───────────┴───────┴──────────┘"
      ]
     },
     "execution_count": 66,
     "metadata": {},
     "output_type": "execute_result"
    }
   ],
   "source": [
    "df_train.describe()"
   ]
  },
  {
   "cell_type": "code",
   "execution_count": 67,
   "metadata": {},
   "outputs": [
    {
     "data": {
      "text/html": [
       "<div><style>\n",
       ".dataframe > thead > tr,\n",
       ".dataframe > tbody > tr {\n",
       "  text-align: right;\n",
       "  white-space: pre-wrap;\n",
       "}\n",
       "</style>\n",
       "<small>shape: (1, 2)</small><table border=\"1\" class=\"dataframe\"><thead><tr><th>PassengerId</th><th>Survived</th></tr><tr><td>u32</td><td>u32</td></tr></thead><tbody><tr><td>0</td><td>0</td></tr></tbody></table></div>"
      ],
      "text/plain": [
       "shape: (1, 2)\n",
       "┌─────────────┬──────────┐\n",
       "│ PassengerId ┆ Survived │\n",
       "│ ---         ┆ ---      │\n",
       "│ u32         ┆ u32      │\n",
       "╞═════════════╪══════════╡\n",
       "│ 0           ┆ 0        │\n",
       "└─────────────┴──────────┘"
      ]
     },
     "execution_count": 67,
     "metadata": {},
     "output_type": "execute_result"
    }
   ],
   "source": [
    "df_test_y.null_count()"
   ]
  },
  {
   "cell_type": "markdown",
   "metadata": {},
   "source": [
    "### データ整形"
   ]
  },
  {
   "cell_type": "code",
   "execution_count": 68,
   "metadata": {},
   "outputs": [],
   "source": [
    "from src.data_processor.process import (\n",
    "    replace_null_data_with_default,\n",
    "    select_cols,\n",
    "    one_hot_encoding,\n",
    ")\n",
    "\n",
    "# 必要な特徴量のみを選択\n",
    "feature_name_list = default_config[\"features\"]\n",
    "target_name_list = [\"Survived\"]\n",
    "\n",
    "# PassengerIdを除外してデータを選択\n",
    "df_train_x = select_cols(df_train, feature_name_list)\n",
    "df_train_y = select_cols(df_train, target_name_list)\n",
    "\n",
    "# 欠損値の処理\n",
    "df_train_x_processed = replace_null_data_with_default(\n",
    "    df_train_x,\n",
    "    replace_dict={\n",
    "        \"Age\": df_train_x[\"Age\"].mean(),\n",
    "        \"Embarked\": \"Unknown\",\n",
    "    },\n",
    ")\n",
    "\n",
    "# テストデータの処理（PassengerIdを除外）\n",
    "df_test_x = select_cols(df_test_x, feature_name_list)\n",
    "df_test_y = select_cols(df_test_y, target_name_list)\n",
    "df_test_x_processed = replace_null_data_with_default(\n",
    "    df_test_x,\n",
    "    replace_dict={\n",
    "        \"Age\": df_train_x[\"Age\"].mean(),\n",
    "        \"Fare\": df_train_x[\"Fare\"].mean(),\n",
    "        \"Embarked\": \"Unknown\",\n",
    "    },\n",
    ")\n",
    "\n",
    "# One-hotエンコーディング\n",
    "df_train_x_processed = one_hot_encoding(df_train_x_processed, [\"Sex\", \"Embarked\"])\n",
    "df_test_x_processed = one_hot_encoding(df_test_x_processed, [\"Sex\", \"Embarked\"])"
   ]
  },
  {
   "cell_type": "code",
   "execution_count": 15,
   "metadata": {},
   "outputs": [
    {
     "name": "stderr",
     "output_type": "stream",
     "text": [
      "[I 2024-12-08 19:34:15,470] A new study created in memory with name: no-name-31e139ac-561c-4250-ab70-fae9c7ad7ad0\n",
      "[I 2024-12-08 19:34:23,288] Trial 0 finished with value: 0.8215052413533362 and parameters: {'num_leaves': 59, 'learning_rate': 0.033279986646538876, 'feature_fraction': 0.8383578286043007, 'bagging_fraction': 0.9402755493682811, 'bagging_freq': 1, 'min_data_in_leaf': 33, 'min_gain_to_split': 0.032610709768143994}. Best is trial 0 with value: 0.8215052413533362.\n",
      "[I 2024-12-08 19:34:27,983] Trial 1 finished with value: 0.8372230242922603 and parameters: {'num_leaves': 45, 'learning_rate': 0.021265534807701447, 'feature_fraction': 0.525843770393261, 'bagging_fraction': 0.6811417558966864, 'bagging_freq': 2, 'min_data_in_leaf': 48, 'min_gain_to_split': 0.0038714551978341885}. Best is trial 1 with value: 0.8372230242922603.\n",
      "[I 2024-12-08 19:34:32,186] Trial 2 finished with value: 0.8338773460548616 and parameters: {'num_leaves': 59, 'learning_rate': 0.013580416039218344, 'feature_fraction': 0.8034246396638858, 'bagging_fraction': 0.6808169527003871, 'bagging_freq': 6, 'min_data_in_leaf': 48, 'min_gain_to_split': 0.00822577863322508}. Best is trial 1 with value: 0.8372230242922603.\n",
      "[I 2024-12-08 19:34:40,752] Trial 3 finished with value: 0.814776222459356 and parameters: {'num_leaves': 75, 'learning_rate': 0.029719241283855394, 'feature_fraction': 0.917628133897948, 'bagging_fraction': 0.5278887547869746, 'bagging_freq': 7, 'min_data_in_leaf': 17, 'min_gain_to_split': 0.0161157388258894}. Best is trial 1 with value: 0.8372230242922603.\n",
      "[I 2024-12-08 19:34:47,842] Trial 4 finished with value: 0.8361057058565061 and parameters: {'num_leaves': 56, 'learning_rate': 0.014717271022184852, 'feature_fraction': 0.6377017381216444, 'bagging_fraction': 0.5575029915187169, 'bagging_freq': 4, 'min_data_in_leaf': 23, 'min_gain_to_split': 0.0029663766567588263}. Best is trial 1 with value: 0.8372230242922603.\n",
      "[I 2024-12-08 19:34:55,829] Trial 5 finished with value: 0.8158998179649739 and parameters: {'num_leaves': 95, 'learning_rate': 0.04218836376852444, 'feature_fraction': 0.7097277523220618, 'bagging_fraction': 0.7849602951136803, 'bagging_freq': 2, 'min_data_in_leaf': 27, 'min_gain_to_split': 0.03495698020696005}. Best is trial 1 with value: 0.8372230242922603.\n",
      "[I 2024-12-08 19:35:06,052] Trial 6 finished with value: 0.8395016006528152 and parameters: {'num_leaves': 31, 'learning_rate': 0.014372261732672137, 'feature_fraction': 0.6227749890869831, 'bagging_fraction': 0.9769269320826776, 'bagging_freq': 1, 'min_data_in_leaf': 26, 'min_gain_to_split': 0.009196078540999032}. Best is trial 6 with value: 0.8395016006528152.\n",
      "[I 2024-12-08 19:35:16,327] Trial 7 finished with value: 0.8001757579561861 and parameters: {'num_leaves': 67, 'learning_rate': 0.06253655980751525, 'feature_fraction': 0.9684035158889973, 'bagging_fraction': 0.622846202597662, 'bagging_freq': 4, 'min_data_in_leaf': 17, 'min_gain_to_split': 0.007285774863241072}. Best is trial 6 with value: 0.8395016006528152.\n",
      "[I 2024-12-08 19:35:26,147] Trial 8 finished with value: 0.8215303496327915 and parameters: {'num_leaves': 49, 'learning_rate': 0.025067381110568224, 'feature_fraction': 0.5993739795952068, 'bagging_fraction': 0.810268443317715, 'bagging_freq': 7, 'min_data_in_leaf': 22, 'min_gain_to_split': 0.0110227696859043}. Best is trial 6 with value: 0.8395016006528152.\n",
      "[I 2024-12-08 19:35:32,774] Trial 9 finished with value: 0.8327223651999247 and parameters: {'num_leaves': 86, 'learning_rate': 0.032089679507871866, 'feature_fraction': 0.4843063876629809, 'bagging_fraction': 0.4838265560679239, 'bagging_freq': 2, 'min_data_in_leaf': 20, 'min_gain_to_split': 0.09317655902030209}. Best is trial 6 with value: 0.8395016006528152.\n",
      "[I 2024-12-08 19:35:40,656] Trial 10 finished with value: 0.8462055112673404 and parameters: {'num_leaves': 21, 'learning_rate': 0.010117582896351784, 'feature_fraction': 0.747869659650269, 'bagging_fraction': 0.9969731624672682, 'bagging_freq': 5, 'min_data_in_leaf': 37, 'min_gain_to_split': 0.0011472213629940076}. Best is trial 10 with value: 0.8462055112673404.\n",
      "[I 2024-12-08 19:35:48,487] Trial 11 finished with value: 0.8428472788902142 and parameters: {'num_leaves': 18, 'learning_rate': 0.01004892646754098, 'feature_fraction': 0.7391212418055105, 'bagging_fraction': 0.9942258403943919, 'bagging_freq': 5, 'min_data_in_leaf': 37, 'min_gain_to_split': 0.0010323203198651972}. Best is trial 10 with value: 0.8462055112673404.\n",
      "[I 2024-12-08 19:35:55,477] Trial 12 finished with value: 0.8383591739376058 and parameters: {'num_leaves': 16, 'learning_rate': 0.010084867303491335, 'feature_fraction': 0.7700395735865304, 'bagging_fraction': 0.8766216594608802, 'bagging_freq': 5, 'min_data_in_leaf': 36, 'min_gain_to_split': 0.0011189455183249807}. Best is trial 10 with value: 0.8462055112673404.\n",
      "[I 2024-12-08 19:35:58,932] Trial 13 finished with value: 0.8237775406440274 and parameters: {'num_leaves': 17, 'learning_rate': 0.09827495027021964, 'feature_fraction': 0.4133953350548912, 'bagging_fraction': 0.402990201879873, 'bagging_freq': 5, 'min_data_in_leaf': 41, 'min_gain_to_split': 0.0010482094922973913}. Best is trial 10 with value: 0.8462055112673404.\n",
      "[I 2024-12-08 19:36:06,423] Trial 14 finished with value: 0.8406000878789781 and parameters: {'num_leaves': 32, 'learning_rate': 0.01018251926677289, 'feature_fraction': 0.7164412498721434, 'bagging_fraction': 0.9999993379976283, 'bagging_freq': 5, 'min_data_in_leaf': 39, 'min_gain_to_split': 0.0021963864034523187}. Best is trial 10 with value: 0.8462055112673404.\n",
      "[I 2024-12-08 19:36:23,039] Trial 15 finished with value: 0.8136651810934655 and parameters: {'num_leaves': 31, 'learning_rate': 0.019083854219666976, 'feature_fraction': 0.8210574657558714, 'bagging_fraction': 0.8816271114659389, 'bagging_freq': 6, 'min_data_in_leaf': 10, 'min_gain_to_split': 0.001950048129245793}. Best is trial 10 with value: 0.8462055112673404.\n",
      "[I 2024-12-08 19:36:28,504] Trial 16 finished with value: 0.8372293013621241 and parameters: {'num_leaves': 23, 'learning_rate': 0.016815491528029088, 'feature_fraction': 0.8794695331266347, 'bagging_fraction': 0.7802441470167959, 'bagging_freq': 3, 'min_data_in_leaf': 43, 'min_gain_to_split': 0.004440307905015229}. Best is trial 10 with value: 0.8462055112673404.\n",
      "[I 2024-12-08 19:36:37,287] Trial 17 finished with value: 0.8428347247504865 and parameters: {'num_leaves': 41, 'learning_rate': 0.012279575476623963, 'feature_fraction': 0.7450437505256948, 'bagging_fraction': 0.9098303497784858, 'bagging_freq': 6, 'min_data_in_leaf': 31, 'min_gain_to_split': 0.0018527879377632126}. Best is trial 10 with value: 0.8462055112673404.\n",
      "[I 2024-12-08 19:36:44,530] Trial 18 finished with value: 0.8102755633670202 and parameters: {'num_leaves': 24, 'learning_rate': 0.057229916226592646, 'feature_fraction': 0.6635648902544499, 'bagging_fraction': 0.8411370916564103, 'bagging_freq': 4, 'min_data_in_leaf': 36, 'min_gain_to_split': 0.0010582570462900833}. Best is trial 10 with value: 0.8462055112673404.\n",
      "[I 2024-12-08 19:36:51,119] Trial 19 finished with value: 0.8461992341974767 and parameters: {'num_leaves': 37, 'learning_rate': 0.011766656304844237, 'feature_fraction': 0.551850816680312, 'bagging_fraction': 0.9507728438178764, 'bagging_freq': 3, 'min_data_in_leaf': 44, 'min_gain_to_split': 0.0016429656768588829}. Best is trial 10 with value: 0.8462055112673404.\n",
      "[I 2024-12-08 19:36:56,322] Trial 20 finished with value: 0.8383466197978784 and parameters: {'num_leaves': 38, 'learning_rate': 0.022035629837924516, 'feature_fraction': 0.5834245681305164, 'bagging_fraction': 0.7303814058342073, 'bagging_freq': 3, 'min_data_in_leaf': 44, 'min_gain_to_split': 0.004635584883107911}. Best is trial 10 with value: 0.8462055112673404.\n",
      "[I 2024-12-08 19:37:03,901] Trial 21 finished with value: 0.8439645973259683 and parameters: {'num_leaves': 26, 'learning_rate': 0.011618004305560347, 'feature_fraction': 0.5274590660653872, 'bagging_fraction': 0.950338337420362, 'bagging_freq': 3, 'min_data_in_leaf': 37, 'min_gain_to_split': 0.0015401449930022698}. Best is trial 10 with value: 0.8462055112673404.\n",
      "[I 2024-12-08 19:37:10,210] Trial 22 finished with value: 0.8405938108091144 and parameters: {'num_leaves': 27, 'learning_rate': 0.012333964698324446, 'feature_fraction': 0.5187126810462233, 'bagging_fraction': 0.91873198407534, 'bagging_freq': 3, 'min_data_in_leaf': 45, 'min_gain_to_split': 0.0016822103521320886}. Best is trial 10 with value: 0.8462055112673404.\n",
      "[I 2024-12-08 19:37:18,582] Trial 23 finished with value: 0.8282656455966354 and parameters: {'num_leaves': 49, 'learning_rate': 0.017093911781565958, 'feature_fraction': 0.41433296729176855, 'bagging_fraction': 0.9448335622473091, 'bagging_freq': 3, 'min_data_in_leaf': 33, 'min_gain_to_split': 0.002548489388557976}. Best is trial 10 with value: 0.8462055112673404.\n",
      "[I 2024-12-08 19:37:25,131] Trial 24 finished with value: 0.8405938108091142 and parameters: {'num_leaves': 39, 'learning_rate': 0.011917568711707878, 'feature_fraction': 0.561594592802245, 'bagging_fraction': 0.8518335257652419, 'bagging_freq': 4, 'min_data_in_leaf': 39, 'min_gain_to_split': 0.001557801686800958}. Best is trial 10 with value: 0.8462055112673404.\n",
      "[I 2024-12-08 19:37:32,094] Trial 25 finished with value: 0.8383403427280145 and parameters: {'num_leaves': 35, 'learning_rate': 0.01803092452254281, 'feature_fraction': 0.4795662183551538, 'bagging_fraction': 0.9523563421096052, 'bagging_freq': 2, 'min_data_in_leaf': 41, 'min_gain_to_split': 0.0034567562194733887}. Best is trial 10 with value: 0.8462055112673404.\n",
      "[I 2024-12-08 19:37:37,867] Trial 26 finished with value: 0.8428410018203503 and parameters: {'num_leaves': 24, 'learning_rate': 0.015149576902869338, 'feature_fraction': 0.6644302002688814, 'bagging_fraction': 0.8932851212170316, 'bagging_freq': 3, 'min_data_in_leaf': 50, 'min_gain_to_split': 0.0014067556970815895}. Best is trial 10 with value: 0.8462055112673404.\n",
      "[I 2024-12-08 19:37:45,255] Trial 27 finished with value: 0.8406000878789781 and parameters: {'num_leaves': 44, 'learning_rate': 0.01179314387496357, 'feature_fraction': 0.546255895767575, 'bagging_fraction': 0.7375223443993716, 'bagging_freq': 4, 'min_data_in_leaf': 29, 'min_gain_to_split': 0.0026422242899308964}. Best is trial 10 with value: 0.8462055112673404.\n",
      "[I 2024-12-08 19:37:52,371] Trial 28 finished with value: 0.83611198292637 and parameters: {'num_leaves': 28, 'learning_rate': 0.024182994723001797, 'feature_fraction': 0.4567310362658205, 'bagging_fraction': 0.8317400440261798, 'bagging_freq': 3, 'min_data_in_leaf': 34, 'min_gain_to_split': 0.00577522826764956}. Best is trial 10 with value: 0.8462055112673404.\n",
      "[I 2024-12-08 19:38:00,518] Trial 29 finished with value: 0.8203941999874459 and parameters: {'num_leaves': 67, 'learning_rate': 0.03789178322915225, 'feature_fraction': 0.8660083192956713, 'bagging_fraction': 0.9517220523894226, 'bagging_freq': 1, 'min_data_in_leaf': 33, 'min_gain_to_split': 0.017960495561298827}. Best is trial 10 with value: 0.8462055112673404.\n",
      "[I 2024-12-08 19:38:06,699] Trial 30 finished with value: 0.8417174063147324 and parameters: {'num_leaves': 20, 'learning_rate': 0.011852996758357418, 'feature_fraction': 0.6535098112844208, 'bagging_fraction': 0.9263674965162316, 'bagging_freq': 4, 'min_data_in_leaf': 46, 'min_gain_to_split': 0.001449880443042029}. Best is trial 10 with value: 0.8462055112673404.\n",
      "[I 2024-12-08 19:38:14,309] Trial 31 finished with value: 0.8372418555018518 and parameters: {'num_leaves': 16, 'learning_rate': 0.010308962293219596, 'feature_fraction': 0.7749026004650569, 'bagging_fraction': 0.9929810482667825, 'bagging_freq': 5, 'min_data_in_leaf': 37, 'min_gain_to_split': 0.001251407544965013}. Best is trial 10 with value: 0.8462055112673404.\n",
      "[I 2024-12-08 19:38:21,446] Trial 32 finished with value: 0.8406000878789781 and parameters: {'num_leaves': 21, 'learning_rate': 0.010046784316175523, 'feature_fraction': 0.7221737066121888, 'bagging_fraction': 0.965457148257625, 'bagging_freq': 5, 'min_data_in_leaf': 41, 'min_gain_to_split': 0.0010234641374589069}. Best is trial 10 with value: 0.8462055112673404.\n",
      "[I 2024-12-08 19:38:29,265] Trial 33 finished with value: 0.8394702153034963 and parameters: {'num_leaves': 27, 'learning_rate': 0.01304919438684903, 'feature_fraction': 0.6845052941796533, 'bagging_fraction': 0.9999797601371075, 'bagging_freq': 6, 'min_data_in_leaf': 38, 'min_gain_to_split': 0.0020209601146294986}. Best is trial 10 with value: 0.8462055112673404.\n",
      "[I 2024-12-08 19:38:35,017] Trial 34 finished with value: 0.8372355784319879 and parameters: {'num_leaves': 37, 'learning_rate': 0.015756839452005036, 'feature_fraction': 0.7845862047773101, 'bagging_fraction': 0.9263533380823658, 'bagging_freq': 5, 'min_data_in_leaf': 47, 'min_gain_to_split': 0.003251141665273722}. Best is trial 10 with value: 0.8462055112673404.\n",
      "[I 2024-12-08 19:38:43,375] Trial 35 finished with value: 0.8428410018203503 and parameters: {'num_leaves': 20, 'learning_rate': 0.01381253896585114, 'feature_fraction': 0.5112969647345117, 'bagging_fraction': 0.8739644377222051, 'bagging_freq': 6, 'min_data_in_leaf': 30, 'min_gain_to_split': 0.0014618820131946165}. Best is trial 10 with value: 0.8462055112673404.\n",
      "[I 2024-12-08 19:38:50,071] Trial 36 finished with value: 0.8417111292448685 and parameters: {'num_leaves': 31, 'learning_rate': 0.011108019603781329, 'feature_fraction': 0.601874681651713, 'bagging_fraction': 0.9606316683988906, 'bagging_freq': 2, 'min_data_in_leaf': 42, 'min_gain_to_split': 0.04087953911729589}. Best is trial 10 with value: 0.8462055112673404.\n",
      "[I 2024-12-08 19:38:55,493] Trial 37 finished with value: 0.841723683384596 and parameters: {'num_leaves': 49, 'learning_rate': 0.014135692713188, 'feature_fraction': 0.8480086435962322, 'bagging_fraction': 0.9043686856907215, 'bagging_freq': 4, 'min_data_in_leaf': 50, 'min_gain_to_split': 0.002452714983163203}. Best is trial 10 with value: 0.8462055112673404.\n",
      "[I 2024-12-08 19:39:01,385] Trial 38 finished with value: 0.8372355784319879 and parameters: {'num_leaves': 35, 'learning_rate': 0.019761454884926734, 'feature_fraction': 0.7389683686324227, 'bagging_fraction': 0.6428944300541446, 'bagging_freq': 7, 'min_data_in_leaf': 35, 'min_gain_to_split': 0.0012949612201006938}. Best is trial 10 with value: 0.8462055112673404.\n",
      "[I 2024-12-08 19:39:08,662] Trial 39 finished with value: 0.8417111292448685 and parameters: {'num_leaves': 26, 'learning_rate': 0.011075780278414587, 'feature_fraction': 0.6295246656918297, 'bagging_fraction': 0.9693355117659626, 'bagging_freq': 3, 'min_data_in_leaf': 39, 'min_gain_to_split': 0.01256456119059775}. Best is trial 10 with value: 0.8462055112673404.\n",
      "[I 2024-12-08 19:39:16,666] Trial 40 finished with value: 0.8203941999874459 and parameters: {'num_leaves': 64, 'learning_rate': 0.02778890101482718, 'feature_fraction': 0.9346031537344943, 'bagging_fraction': 0.7967687078440558, 'bagging_freq': 5, 'min_data_in_leaf': 28, 'min_gain_to_split': 0.005550847297469795}. Best is trial 10 with value: 0.8462055112673404.\n",
      "[I 2024-12-08 19:39:22,406] Trial 41 finished with value: 0.8405938108091142 and parameters: {'num_leaves': 22, 'learning_rate': 0.015333428568396961, 'feature_fraction': 0.6959125839711987, 'bagging_fraction': 0.8907599802978546, 'bagging_freq': 3, 'min_data_in_leaf': 49, 'min_gain_to_split': 0.0017910875217544038}. Best is trial 10 with value: 0.8462055112673404.\n",
      "[I 2024-12-08 19:39:28,590] Trial 42 finished with value: 0.8383528968677421 and parameters: {'num_leaves': 20, 'learning_rate': 0.013127364576143155, 'feature_fraction': 0.6775893393761476, 'bagging_fraction': 0.9359051011905485, 'bagging_freq': 2, 'min_data_in_leaf': 48, 'min_gain_to_split': 0.0013258175031650905}. Best is trial 10 with value: 0.8462055112673404.\n",
      "[I 2024-12-08 19:39:35,253] Trial 43 finished with value: 0.8417111292448686 and parameters: {'num_leaves': 30, 'learning_rate': 0.013760255930056302, 'feature_fraction': 0.5783610122416014, 'bagging_fraction': 0.9768788047613872, 'bagging_freq': 3, 'min_data_in_leaf': 45, 'min_gain_to_split': 0.0010031329253123995}. Best is trial 10 with value: 0.8462055112673404.\n",
      "[I 2024-12-08 19:39:43,011] Trial 44 finished with value: 0.8383654510074697 and parameters: {'num_leaves': 24, 'learning_rate': 0.015457153617637637, 'feature_fraction': 0.8119196863429493, 'bagging_fraction': 0.8690456722315997, 'bagging_freq': 4, 'min_data_in_leaf': 32, 'min_gain_to_split': 0.0015617748934852902}. Best is trial 10 with value: 0.8462055112673404.\n",
      "[I 2024-12-08 19:39:52,777] Trial 45 finished with value: 0.8406189190885694 and parameters: {'num_leaves': 18, 'learning_rate': 0.011111367095775392, 'feature_fraction': 0.5432131094139812, 'bagging_fraction': 0.9024677964270201, 'bagging_freq': 2, 'min_data_in_leaf': 25, 'min_gain_to_split': 0.002267670748488016}. Best is trial 10 with value: 0.8462055112673404.\n",
      "[I 2024-12-08 19:39:59,558] Trial 46 finished with value: 0.8383591739376058 and parameters: {'num_leaves': 34, 'learning_rate': 0.01084271190941777, 'feature_fraction': 0.743145030667378, 'bagging_fraction': 0.9862395072754248, 'bagging_freq': 4, 'min_data_in_leaf': 43, 'min_gain_to_split': 0.0030089983559650384}. Best is trial 10 with value: 0.8462055112673404.\n",
      "[I 2024-12-08 19:40:05,535] Trial 47 finished with value: 0.823758709434436 and parameters: {'num_leaves': 77, 'learning_rate': 0.050668842016137895, 'feature_fraction': 0.4548824220407925, 'bagging_fraction': 0.93669442552174, 'bagging_freq': 3, 'min_data_in_leaf': 48, 'min_gain_to_split': 0.0012731511423683993}. Best is trial 10 with value: 0.8462055112673404.\n",
      "[I 2024-12-08 19:40:10,544] Trial 48 finished with value: 0.8349758332810244 and parameters: {'num_leaves': 25, 'learning_rate': 0.012780838278207697, 'feature_fraction': 0.5999596683473699, 'bagging_fraction': 0.8199162317388217, 'bagging_freq': 6, 'min_data_in_leaf': 50, 'min_gain_to_split': 0.05313422129266298}. Best is trial 10 with value: 0.8462055112673404.\n",
      "[I 2024-12-08 19:40:15,389] Trial 49 finished with value: 0.8361057058565061 and parameters: {'num_leaves': 43, 'learning_rate': 0.021450121650215384, 'feature_fraction': 0.639066487085076, 'bagging_fraction': 0.559249289934063, 'bagging_freq': 1, 'min_data_in_leaf': 37, 'min_gain_to_split': 0.004003437541834064}. Best is trial 10 with value: 0.8462055112673404.\n"
     ]
    },
    {
     "name": "stdout",
     "output_type": "stream",
     "text": [
      "Best parameters: {'num_leaves': 21, 'learning_rate': 0.010117582896351784, 'feature_fraction': 0.747869659650269, 'bagging_fraction': 0.9969731624672682, 'bagging_freq': 5, 'min_data_in_leaf': 37, 'min_gain_to_split': 0.0011472213629940076}\n",
      "Best score: 0.8462055112673404\n"
     ]
    }
   ],
   "source": [
    "from sklearn.model_selection import StratifiedKFold\n",
    "from src.models.lightgbm.preprocess import create_input_data_for_lightgbm\n",
    "\n",
    "from src.optimizer.lightgbm import LightGBMOptimizer\n",
    "import numpy as np\n",
    "from sklearn.metrics import accuracy_score\n",
    "\n",
    "# オプティマイザーの初期化\n",
    "optimizer = LightGBMOptimizer(\n",
    "    X_train=df_train_x_processed,\n",
    "    y_train=df_train_y,\n",
    "    score_function=accuracy_score,\n",
    "    n_trials=50,\n",
    "    n_splits=5,\n",
    "    random_state=42,\n",
    ")\n",
    "\n",
    "# パラメータの最適化を実行\n",
    "lgbt_best_params, lgbt_best_score = optimizer.optimize(\n",
    "    direction=\"maximize\"  # accuracy_scoreを最大化\n",
    ")\n",
    "\n",
    "print(\"Best parameters:\", lgbt_best_params)\n",
    "print(\"Best score:\", lgbt_best_score)"
   ]
  },
  {
   "cell_type": "code",
   "execution_count": 35,
   "metadata": {},
   "outputs": [
    {
     "name": "stdout",
     "output_type": "stream",
     "text": [
      "LightGBM CV scores: [0.8547486033519553, 0.8426966292134831, 0.8370786516853933, 0.7921348314606742, 0.8033707865168539]\n",
      "LightGBM Mean CV score: 0.8260059004456719\n"
     ]
    }
   ],
   "source": [
    "from src.models.lightgbm.model import LightGBM\n",
    "\n",
    "kf = StratifiedKFold(n_splits=5, shuffle=True, random_state=0)\n",
    "from sklearn.metrics import accuracy_score\n",
    "\n",
    "params = {\n",
    "    **default_config[\"default_lgbm_params\"],\n",
    "    **lgbt_best_params,\n",
    "}\n",
    "oof_predictions = np.zeros(len(df_train_x_processed))\n",
    "scores = []\n",
    "for i, (train_, val_) in enumerate(kf.split(df_train_x_processed, df_train_y)):\n",
    "    x_train, x_val = df_train_x_processed[train_], df_train_x_processed[val_]\n",
    "    y_train = df_train_y[train_]\n",
    "    y_val = df_train_y[val_]\n",
    "\n",
    "    lgb_train = create_input_data_for_lightgbm(x_train, y_train)\n",
    "    lgb_eval = create_input_data_for_lightgbm(x_val, y_val, reference=lgb_train)\n",
    "\n",
    "    model = LightGBM()\n",
    "    model.train(\n",
    "        params=params,\n",
    "        train_set=lgb_train,\n",
    "        valid_sets=lgb_eval,\n",
    "    )\n",
    "    y_val_pred = model.predict(x_val)\n",
    "    y_val_pred_binary = (y_val_pred > 0.5).astype(int)\n",
    "    oof_predictions[val_] = y_val_pred_binary\n",
    "    score = accuracy_score(y_val, y_val_pred_binary)\n",
    "    scores.append(score)\n",
    "print(f\"LightGBM CV scores: {scores}\")\n",
    "print(f\"LightGBM Mean CV score: {np.mean(scores)}\")"
   ]
  },
  {
   "cell_type": "code",
   "execution_count": 37,
   "metadata": {},
   "outputs": [
    {
     "name": "stderr",
     "output_type": "stream",
     "text": [
      "[I 2024-12-08 21:56:46,130] A new study created in memory with name: no-name-c982f8fb-093d-4441-bc86-861b1623b192\n",
      "[I 2024-12-08 21:56:49,138] Trial 0 finished with value: 0.8260310087251271 and parameters: {'max_depth': 4, 'eta': 0.019906240098265453, 'min_child_weight': 3.611485479426343, 'gamma': 0.9031414981562726, 'colsample_bytree': 0.6405883323817723, 'subsample': 0.7818264024115498, 'lambda': 8.803524184226437e-08, 'alpha': 7.477362061995759e-06, 'scale_pos_weight': 0.6226081583820311}. Best is trial 0 with value: 0.8260310087251271.\n",
      "[I 2024-12-08 21:56:53,325] Trial 1 finished with value: 0.7597639821731217 and parameters: {'max_depth': 5, 'eta': 0.12303190862982, 'min_child_weight': 6.188440077948183, 'gamma': 0.33606017901164054, 'colsample_bytree': 0.5952998826189368, 'subsample': 0.8214535674157071, 'lambda': 1.3833583166358534e-08, 'alpha': 1.1584723425355988e-07, 'scale_pos_weight': 6.486898563958554}. Best is trial 0 with value: 0.8260310087251271.\n",
      "[I 2024-12-08 21:56:57,630] Trial 2 finished with value: 0.7418052852928253 and parameters: {'max_depth': 4, 'eta': 0.03077353652822698, 'min_child_weight': 3.4955251686088316, 'gamma': 0.13286202400900127, 'colsample_bytree': 0.8739734775237112, 'subsample': 0.7387023025521108, 'lambda': 0.07128392213620666, 'alpha': 1.080695498162161e-05, 'scale_pos_weight': 9.571922844653267}. Best is trial 0 with value: 0.8260310087251271.\n",
      "[I 2024-12-08 21:57:03,079] Trial 3 finished with value: 0.7620174502542213 and parameters: {'max_depth': 7, 'eta': 0.012983879550540287, 'min_child_weight': 6.407106164295394, 'gamma': 0.8651224164003565, 'colsample_bytree': 0.8862695143104845, 'subsample': 0.4376271269136735, 'lambda': 0.5568373001539382, 'alpha': 0.3177691818190011, 'scale_pos_weight': 5.615833307985138}. Best is trial 0 with value: 0.8260310087251271.\n",
      "[I 2024-12-08 21:57:05,384] Trial 4 finished with value: 0.7744083861653379 and parameters: {'max_depth': 7, 'eta': 0.1106188640060697, 'min_child_weight': 2.8920684650323354, 'gamma': 0.22825283167309618, 'colsample_bytree': 0.7141159635353771, 'subsample': 0.9383667297993402, 'lambda': 1.1190801296754463e-05, 'alpha': 2.1429815046667362e-05, 'scale_pos_weight': 0.17145180487468614}. Best is trial 0 with value: 0.8260310087251271.\n",
      "[I 2024-12-08 21:57:09,398] Trial 5 finished with value: 0.7811060197099995 and parameters: {'max_depth': 8, 'eta': 0.14920157656904837, 'min_child_weight': 3.0547740814363857, 'gamma': 0.9135825377101912, 'colsample_bytree': 0.5078196622499352, 'subsample': 0.5276218790884951, 'lambda': 0.17956748559421812, 'alpha': 0.00010416046723436074, 'scale_pos_weight': 3.331776184348906}. Best is trial 0 with value: 0.8260310087251271.\n",
      "[I 2024-12-08 21:57:11,501] Trial 6 finished with value: 0.801324461741259 and parameters: {'max_depth': 7, 'eta': 0.11661596047218731, 'min_child_weight': 1.9762337677542805, 'gamma': 0.9861885739805214, 'colsample_bytree': 0.6539161987690848, 'subsample': 0.6891306825895189, 'lambda': 2.9480579763380922e-08, 'alpha': 7.565884991835853e-07, 'scale_pos_weight': 0.2776635296243785}. Best is trial 0 with value: 0.8260310087251271.\n",
      "[I 2024-12-08 21:57:15,700] Trial 7 finished with value: 0.7541648358546231 and parameters: {'max_depth': 5, 'eta': 0.019093437902456364, 'min_child_weight': 1.3666979714447358, 'gamma': 0.6294966565241642, 'colsample_bytree': 0.9722487469587968, 'subsample': 0.9411345345820394, 'lambda': 6.099869621103903e-05, 'alpha': 0.11060504256656051, 'scale_pos_weight': 8.568440477609292}. Best is trial 0 with value: 0.8260310087251271.\n",
      "[I 2024-12-08 21:57:18,451] Trial 8 finished with value: 0.8305002824681438 and parameters: {'max_depth': 3, 'eta': 0.013145539256933554, 'min_child_weight': 1.0210588087411279, 'gamma': 0.986124947197255, 'colsample_bytree': 0.6880900370055345, 'subsample': 0.8426624640631661, 'lambda': 0.0003220610358533014, 'alpha': 3.155745914115465e-06, 'scale_pos_weight': 0.6818690556223787}. Best is trial 8 with value: 0.8305002824681438.\n",
      "[I 2024-12-08 21:57:20,984] Trial 9 finished with value: 0.8148264390182662 and parameters: {'max_depth': 8, 'eta': 0.22154185893367198, 'min_child_weight': 6.831816177605941, 'gamma': 0.7051186227853659, 'colsample_bytree': 0.9350360342977467, 'subsample': 0.6240353283178143, 'lambda': 8.782724932533475e-06, 'alpha': 2.8079308635948024e-07, 'scale_pos_weight': 0.46999221532709007}. Best is trial 8 with value: 0.8305002824681438.\n",
      "[I 2024-12-08 21:57:24,238] Trial 10 finished with value: 0.8192580503421004 and parameters: {'max_depth': 3, 'eta': 0.0491697476391573, 'min_child_weight': 5.136492874921824, 'gamma': 0.4260979503147324, 'colsample_bytree': 0.7765974310498964, 'subsample': 0.8480125539412318, 'lambda': 0.0037028599219071164, 'alpha': 0.002093358991320178, 'scale_pos_weight': 1.7505890090836034}. Best is trial 8 with value: 0.8305002824681438.\n",
      "[I 2024-12-08 21:57:27,259] Trial 11 finished with value: 0.8237712635741635 and parameters: {'max_depth': 3, 'eta': 0.010012650038049468, 'min_child_weight': 4.723895209853156, 'gamma': 0.7141414780469871, 'colsample_bytree': 0.41521650138934313, 'subsample': 0.800283844976655, 'lambda': 7.720263374579255e-07, 'alpha': 2.1519526676563786e-08, 'scale_pos_weight': 0.7895982970142157}. Best is trial 8 with value: 0.8305002824681438.\n",
      "[I 2024-12-08 21:57:29,886] Trial 12 finished with value: 0.8406189190885694 and parameters: {'max_depth': 4, 'eta': 0.023181457083426917, 'min_child_weight': 1.2109996709948168, 'gamma': 0.9954715866513577, 'colsample_bytree': 0.5642908475639161, 'subsample': 0.8808849119936331, 'lambda': 0.001260149440010784, 'alpha': 0.0010321413060250773, 'scale_pos_weight': 0.9011294193794349}. Best is trial 12 with value: 0.8406189190885694.\n",
      "[I 2024-12-08 21:57:32,188] Trial 13 finished with value: 0.8305128366078713 and parameters: {'max_depth': 4, 'eta': 0.032619451422142405, 'min_child_weight': 1.1809078625184117, 'gamma': 0.7697324341280458, 'colsample_bytree': 0.5498046825948956, 'subsample': 0.9893109619840412, 'lambda': 0.001545348925809275, 'alpha': 0.0024427980414325505, 'scale_pos_weight': 1.3933058494187753}. Best is trial 12 with value: 0.8406189190885694.\n",
      "[I 2024-12-08 21:57:34,658] Trial 14 finished with value: 0.8193019898311468 and parameters: {'max_depth': 4, 'eta': 0.04247023938079966, 'min_child_weight': 2.0658234486694083, 'gamma': 0.5663273283850894, 'colsample_bytree': 0.5285717975805717, 'subsample': 0.9938558158597017, 'lambda': 0.00319050905604989, 'alpha': 0.002249368808721193, 'scale_pos_weight': 1.8967152438922739}. Best is trial 12 with value: 0.8406189190885694.\n",
      "[I 2024-12-08 21:57:37,325] Trial 15 finished with value: 0.8372418555018518 and parameters: {'max_depth': 5, 'eta': 0.02916156495146719, 'min_child_weight': 2.057552887581639, 'gamma': 0.7963294401686516, 'colsample_bytree': 0.45491031048659625, 'subsample': 0.9228215789893927, 'lambda': 0.0032632155679527034, 'alpha': 0.007214732164613947, 'scale_pos_weight': 1.3215924127356593}. Best is trial 12 with value: 0.8406189190885694.\n",
      "[I 2024-12-08 21:57:39,913] Trial 16 finished with value: 0.8024543343167408 and parameters: {'max_depth': 6, 'eta': 0.07253114402531131, 'min_child_weight': 2.246744327390046, 'gamma': 0.8156147137654581, 'colsample_bytree': 0.4079423255831337, 'subsample': 0.8953218333629439, 'lambda': 0.02388858813426256, 'alpha': 0.039772195349029274, 'scale_pos_weight': 2.803781746291516}. Best is trial 12 with value: 0.8406189190885694.\n",
      "[I 2024-12-08 21:57:43,541] Trial 17 finished with value: 0.76430230368464 and parameters: {'max_depth': 6, 'eta': 0.024678537581342728, 'min_child_weight': 2.594994680336371, 'gamma': 0.018536864605821934, 'colsample_bytree': 0.46021852484842174, 'subsample': 0.64853089571696, 'lambda': 0.00020021348745137722, 'alpha': 0.00024111324648343367, 'scale_pos_weight': 0.11919335150985554}. Best is trial 12 with value: 0.8406189190885694.\n",
      "[I 2024-12-08 21:57:45,805] Trial 18 finished with value: 0.8170547988199107 and parameters: {'max_depth': 5, 'eta': 0.07378725768329847, 'min_child_weight': 4.3695147045787275, 'gamma': 0.49398323247716425, 'colsample_bytree': 0.4823523769465925, 'subsample': 0.8940138204677986, 'lambda': 0.025722667412191636, 'alpha': 0.014737623928319536, 'scale_pos_weight': 0.4006259627247977}. Best is trial 12 with value: 0.8406189190885694.\n",
      "[I 2024-12-08 21:57:48,893] Trial 19 finished with value: 0.837235578431988 and parameters: {'max_depth': 6, 'eta': 0.03830962425497504, 'min_child_weight': 1.6861355489801957, 'gamma': 0.6221211733373309, 'colsample_bytree': 0.6102110208704704, 'subsample': 0.7420013324274894, 'lambda': 0.0009565033836577659, 'alpha': 0.7241302944217424, 'scale_pos_weight': 1.1736027051001576}. Best is trial 12 with value: 0.8406189190885694.\n",
      "[I 2024-12-08 21:57:51,580] Trial 20 finished with value: 0.8001820350260498 and parameters: {'max_depth': 5, 'eta': 0.0669803506649369, 'min_child_weight': 2.3422092157708585, 'gamma': 0.7451901380051515, 'colsample_bytree': 0.5591600550708297, 'subsample': 0.9197527588179112, 'lambda': 1.734960296818462e-05, 'alpha': 0.0005017639962234949, 'scale_pos_weight': 3.1532635191693514}. Best is trial 12 with value: 0.8406189190885694.\n",
      "[I 2024-12-08 21:57:54,803] Trial 21 finished with value: 0.8327474734793798 and parameters: {'max_depth': 6, 'eta': 0.03558322336099693, 'min_child_weight': 1.6729322334202958, 'gamma': 0.6517321187181, 'colsample_bytree': 0.6004617360008221, 'subsample': 0.7425776301447784, 'lambda': 0.0009010158363994453, 'alpha': 0.7049071238050957, 'scale_pos_weight': 1.2819765913655108}. Best is trial 12 with value: 0.8406189190885694.\n",
      "[I 2024-12-08 21:57:59,076] Trial 22 finished with value: 0.833864791915134 and parameters: {'max_depth': 6, 'eta': 0.02084583930794973, 'min_child_weight': 1.6918120681023323, 'gamma': 0.8353129917395368, 'colsample_bytree': 0.7598454990329311, 'subsample': 0.5833517153171395, 'lambda': 0.007838884827731192, 'alpha': 0.012993708459606816, 'scale_pos_weight': 0.9311420166060002}. Best is trial 12 with value: 0.8406189190885694.\n",
      "[I 2024-12-08 21:58:01,999] Trial 23 finished with value: 0.8305191136777352 and parameters: {'max_depth': 5, 'eta': 0.027377627858862042, 'min_child_weight': 1.501299160108117, 'gamma': 0.5691645538364231, 'colsample_bytree': 0.4635088419998288, 'subsample': 0.8591760554300426, 'lambda': 0.0004857314413410231, 'alpha': 0.9194962933654808, 'scale_pos_weight': 1.1602366070877488}. Best is trial 12 with value: 0.8406189190885694.\n",
      "[I 2024-12-08 21:58:05,299] Trial 24 finished with value: 0.8125478626577115 and parameters: {'max_depth': 4, 'eta': 0.04543909985217512, 'min_child_weight': 1.03229125135135, 'gamma': 0.9956531331466308, 'colsample_bytree': 0.5845197127656062, 'subsample': 0.7580309076112128, 'lambda': 6.724035871675498e-05, 'alpha': 0.09544775311769442, 'scale_pos_weight': 2.2458834350531602}. Best is trial 12 with value: 0.8406189190885694.\n",
      "[I 2024-12-08 21:58:08,646] Trial 25 finished with value: 0.8237838177138912 and parameters: {'max_depth': 6, 'eta': 0.015603935551831299, 'min_child_weight': 2.7300057863919855, 'gamma': 0.7969095409268316, 'colsample_bytree': 0.638262808922981, 'subsample': 0.6863293468802676, 'lambda': 0.01268281879776698, 'alpha': 0.012035008261418727, 'scale_pos_weight': 0.4439739758320756}. Best is trial 12 with value: 0.8406189190885694.\n",
      "[I 2024-12-08 21:58:10,802] Trial 26 finished with value: 0.8047015253279769 and parameters: {'max_depth': 5, 'eta': 0.0602634158864981, 'min_child_weight': 1.8072554681296091, 'gamma': 0.4308860164517345, 'colsample_bytree': 0.504332028003951, 'subsample': 0.960561766164624, 'lambda': 0.0010223084157455872, 'alpha': 0.0006191722376111706, 'scale_pos_weight': 0.3032796209551142}. Best is trial 12 with value: 0.8406189190885694.\n",
      "[I 2024-12-08 21:58:13,334] Trial 27 finished with value: 0.8383717280773334 and parameters: {'max_depth': 7, 'eta': 0.038721753103588524, 'min_child_weight': 3.3736119562946545, 'gamma': 0.9133611029383706, 'colsample_bytree': 0.43865625782181833, 'subsample': 0.8707146187065704, 'lambda': 4.30362083465394e-05, 'alpha': 3.78808691964195e-05, 'scale_pos_weight': 1.048246677782455}. Best is trial 12 with value: 0.8406189190885694.\n",
      "[I 2024-12-08 21:58:15,964] Trial 28 finished with value: 0.8226539451384094 and parameters: {'max_depth': 7, 'eta': 0.024638740690427097, 'min_child_weight': 3.399514030008036, 'gamma': 0.914285012145953, 'colsample_bytree': 0.4378756361102205, 'subsample': 0.8815399418248884, 'lambda': 1.4192960575260758e-06, 'alpha': 9.005430903548348e-05, 'scale_pos_weight': 0.6266410572066057}. Best is trial 12 with value: 0.8406189190885694.\n",
      "[I 2024-12-08 21:58:20,357] Trial 29 finished with value: 0.7732471282405372 and parameters: {'max_depth': 8, 'eta': 0.018958942397295484, 'min_child_weight': 3.9349401686952437, 'gamma': 0.9253428080653943, 'colsample_bytree': 0.4444202510336093, 'subsample': 0.8009974943094956, 'lambda': 1.9915758195003023e-06, 'alpha': 4.580262736437062e-05, 'scale_pos_weight': 4.555622205821791}. Best is trial 12 with value: 0.8406189190885694.\n",
      "[I 2024-12-08 21:58:22,687] Trial 30 finished with value: 0.8305316678174629 and parameters: {'max_depth': 4, 'eta': 0.05386104210722434, 'min_child_weight': 3.2351960887463496, 'gamma': 0.886839612427754, 'colsample_bytree': 0.402653404160748, 'subsample': 0.9119283869943657, 'lambda': 3.329306818865958e-05, 'alpha': 2.0340673027623473e-06, 'scale_pos_weight': 0.8789245407291483}. Best is trial 12 with value: 0.8406189190885694.\n",
      "[I 2024-12-08 21:58:26,852] Trial 31 finished with value: 0.8192831586215554 and parameters: {'max_depth': 7, 'eta': 0.037120578477522884, 'min_child_weight': 2.455827969941115, 'gamma': 0.65057070763554, 'colsample_bytree': 0.6346256448227632, 'subsample': 0.7796938487707094, 'lambda': 0.00015964479819871862, 'alpha': 0.0010766326193036736, 'scale_pos_weight': 1.5193630006271306}. Best is trial 12 with value: 0.8406189190885694.\n",
      "[I 2024-12-08 21:58:29,685] Trial 32 finished with value: 0.8349883874207521 and parameters: {'max_depth': 6, 'eta': 0.041179391184916724, 'min_child_weight': 3.8915705044851885, 'gamma': 0.8270662926700374, 'colsample_bytree': 0.5543395043501322, 'subsample': 0.8339890673757787, 'lambda': 0.0043698243176500395, 'alpha': 0.00448683968555054, 'scale_pos_weight': 1.0598118305159392}. Best is trial 12 with value: 0.8406189190885694.\n",
      "[I 2024-12-08 21:58:32,361] Trial 33 finished with value: 0.8181658401858012 and parameters: {'max_depth': 5, 'eta': 0.02752018719167622, 'min_child_weight': 5.303152876482335, 'gamma': 0.6997814414180268, 'colsample_bytree': 0.4935764975750021, 'subsample': 0.8711265831559081, 'lambda': 3.7027770467826474e-07, 'alpha': 0.0001450098052174055, 'scale_pos_weight': 0.559927779333003}. Best is trial 12 with value: 0.8406189190885694.\n",
      "[I 2024-12-08 21:58:36,452] Trial 34 finished with value: 0.8147824995292197 and parameters: {'max_depth': 7, 'eta': 0.022222930902536072, 'min_child_weight': 1.4851380954574247, 'gamma': 0.9396886909831811, 'colsample_bytree': 0.5774898850537862, 'subsample': 0.7255504394941837, 'lambda': 3.953018251706367e-06, 'alpha': 2.1315119673443195e-05, 'scale_pos_weight': 2.141124314841102}. Best is trial 12 with value: 0.8406189190885694.\n",
      "[I 2024-12-08 21:58:38,444] Trial 35 finished with value: 0.8305253907475991 and parameters: {'max_depth': 4, 'eta': 0.08837190808941159, 'min_child_weight': 1.974390656662696, 'gamma': 0.8694585968364401, 'colsample_bytree': 0.6076756858360499, 'subsample': 0.9645782620707145, 'lambda': 0.07879064930508449, 'alpha': 0.17768543375318366, 'scale_pos_weight': 1.0387137178254022}. Best is trial 12 with value: 0.8406189190885694.\n",
      "[I 2024-12-08 21:58:42,627] Trial 36 finished with value: 0.8372293013621241 and parameters: {'max_depth': 6, 'eta': 0.030048679902425435, 'min_child_weight': 2.7059585159456714, 'gamma': 0.29508781538802076, 'colsample_bytree': 0.5346742526309711, 'subsample': 0.8114849897257688, 'lambda': 0.00040931180038558554, 'alpha': 0.032124740390151514, 'scale_pos_weight': 0.7410588622155327}. Best is trial 12 with value: 0.8406189190885694.\n",
      "[I 2024-12-08 21:58:47,837] Trial 37 finished with value: 0.8271232188814261 and parameters: {'max_depth': 7, 'eta': 0.016768222416721414, 'min_child_weight': 2.904380764972066, 'gamma': 0.5887927675921328, 'colsample_bytree': 0.6746758129959152, 'subsample': 0.4353946749431357, 'lambda': 0.4456426212287268, 'alpha': 9.08781996804923e-06, 'scale_pos_weight': 1.4517948410029713}. Best is trial 12 with value: 0.8406189190885694.\n",
      "[I 2024-12-08 21:58:52,372] Trial 38 finished with value: 0.8069047768501664 and parameters: {'max_depth': 5, 'eta': 0.03484945777334966, 'min_child_weight': 3.590035720905683, 'gamma': 0.7641294622118556, 'colsample_bytree': 0.7412329981060952, 'subsample': 0.5329386467056932, 'lambda': 9.082843249110383e-05, 'alpha': 0.00628801050369615, 'scale_pos_weight': 2.370978888127189}. Best is trial 12 with value: 0.8406189190885694.\n",
      "[I 2024-12-08 21:58:54,972] Trial 39 finished with value: 0.7676605360617664 and parameters: {'max_depth': 7, 'eta': 0.09568015972356836, 'min_child_weight': 5.869840327112307, 'gamma': 0.9435196655138745, 'colsample_bytree': 0.8103478174162643, 'subsample': 0.9398370563912983, 'lambda': 0.059285609037014055, 'alpha': 0.00043199463125703736, 'scale_pos_weight': 4.130458169176511}. Best is trial 12 with value: 0.8406189190885694.\n",
      "[I 2024-12-08 21:58:57,479] Trial 40 finished with value: 0.7934844014813884 and parameters: {'max_depth': 4, 'eta': 0.014068127130919391, 'min_child_weight': 1.2946760146896694, 'gamma': 0.8588844488542366, 'colsample_bytree': 0.5217607163854904, 'subsample': 0.7683509125187901, 'lambda': 0.0015178957346117178, 'alpha': 0.30170848273662754, 'scale_pos_weight': 0.2802404522879661}. Best is trial 12 with value: 0.8406189190885694.\n",
      "[I 2024-12-08 21:59:01,334] Trial 41 finished with value: 0.8372418555018516 and parameters: {'max_depth': 6, 'eta': 0.027883389895835484, 'min_child_weight': 3.1525830882110135, 'gamma': 0.30823755471370756, 'colsample_bytree': 0.5273803180825456, 'subsample': 0.8172193363153262, 'lambda': 0.0005410128966719793, 'alpha': 0.03779040634257131, 'scale_pos_weight': 0.5667700170687032}. Best is trial 12 with value: 0.8406189190885694.\n",
      "[I 2024-12-08 21:59:05,999] Trial 42 finished with value: 0.8428535559600778 and parameters: {'max_depth': 6, 'eta': 0.029698873080431218, 'min_child_weight': 2.9723163336771794, 'gamma': 0.18651314811849784, 'colsample_bytree': 0.4700105540299814, 'subsample': 0.7165860209050052, 'lambda': 2.8351401191601414e-05, 'alpha': 0.030050851073758388, 'scale_pos_weight': 0.5628611561255372}. Best is trial 42 with value: 0.8428535559600778.\n",
      "[I 2024-12-08 21:59:09,820] Trial 43 finished with value: 0.8181658401858012 and parameters: {'max_depth': 5, 'eta': 0.023640570092428845, 'min_child_weight': 3.211883032306756, 'gamma': 0.19800989466608035, 'colsample_bytree': 0.4812807628304221, 'subsample': 0.8250544741820589, 'lambda': 3.378877468080022e-05, 'alpha': 0.05933331555695357, 'scale_pos_weight': 0.3581519975143053}. Best is trial 42 with value: 0.8428535559600778.\n",
      "[I 2024-12-08 21:59:13,326] Trial 44 finished with value: 0.7766493001067102 and parameters: {'max_depth': 8, 'eta': 0.01749836752149036, 'min_child_weight': 4.178138624481514, 'gamma': 0.09633992113455839, 'colsample_bytree': 0.4266037899298997, 'subsample': 0.8564965868046884, 'lambda': 4.968428397890709e-06, 'alpha': 0.005841087900530652, 'scale_pos_weight': 0.20016966878921946}. Best is trial 42 with value: 0.8428535559600778.\n",
      "[I 2024-12-08 21:59:16,908] Trial 45 finished with value: 0.8260184545853996 and parameters: {'max_depth': 3, 'eta': 0.011006863718107775, 'min_child_weight': 3.7237766922668785, 'gamma': 0.32682026710625445, 'colsample_bytree': 0.4599272546240444, 'subsample': 0.7092402156035277, 'lambda': 2.2696818649478486e-05, 'alpha': 0.029064628401935085, 'scale_pos_weight': 0.6223919104801227}. Best is trial 42 with value: 0.8428535559600778.\n",
      "[I 2024-12-08 21:59:21,367] Trial 46 finished with value: 0.8417362375243236 and parameters: {'max_depth': 7, 'eta': 0.02942274583889285, 'min_child_weight': 3.0291470733566586, 'gamma': 0.19475286653386126, 'colsample_bytree': 0.5025974219619265, 'subsample': 0.9168610503263881, 'lambda': 0.0001787788029493018, 'alpha': 0.0018000649091258147, 'scale_pos_weight': 0.46723975770009335}. Best is trial 42 with value: 0.8428535559600778.\n",
      "[I 2024-12-08 21:59:25,562] Trial 47 finished with value: 0.7990709936601594 and parameters: {'max_depth': 7, 'eta': 0.28605047770197745, 'min_child_weight': 2.0966711530305773, 'gamma': 0.19775182405351496, 'colsample_bytree': 0.4935134281991857, 'subsample': 0.47610292463554843, 'lambda': 0.00018754010593357084, 'alpha': 0.0012442389067913503, 'scale_pos_weight': 0.7941767406431532}. Best is trial 42 with value: 0.8428535559600778.\n",
      "[I 2024-12-08 21:59:29,101] Trial 48 finished with value: 0.8316238779737619 and parameters: {'max_depth': 8, 'eta': 0.05094962463555726, 'min_child_weight': 2.990970001470245, 'gamma': 0.13503072997153187, 'colsample_bytree': 0.439148743561322, 'subsample': 0.9684547448017532, 'lambda': 9.312553606221164e-08, 'alpha': 4.194442865466351e-05, 'scale_pos_weight': 0.48974152600411447}. Best is trial 42 with value: 0.8428535559600778.\n",
      "[I 2024-12-08 21:59:33,573] Trial 49 finished with value: 0.8192831586215554 and parameters: {'max_depth': 7, 'eta': 0.03143459335824044, 'min_child_weight': 2.4467957956362367, 'gamma': 0.25842574907103755, 'colsample_bytree': 0.46328033398590707, 'subsample': 0.9125105857298831, 'lambda': 9.50029775012699e-06, 'alpha': 0.0002749614134171924, 'scale_pos_weight': 1.8093598626665626}. Best is trial 42 with value: 0.8428535559600778.\n"
     ]
    },
    {
     "name": "stdout",
     "output_type": "stream",
     "text": [
      "Best parameters: {'max_depth': 6, 'eta': 0.029698873080431218, 'min_child_weight': 2.9723163336771794, 'gamma': 0.18651314811849784, 'colsample_bytree': 0.4700105540299814, 'subsample': 0.7165860209050052, 'lambda': 2.8351401191601414e-05, 'alpha': 0.030050851073758388, 'scale_pos_weight': 0.5628611561255372}\n",
      "Best score: 0.8428535559600778\n"
     ]
    }
   ],
   "source": [
    "from sklearn.metrics import accuracy_score\n",
    "from src.optimizer.xgboost import XGBoostOptimizer\n",
    "from src.models.xgboost.preprocess import create_input_data_for_xgboost\n",
    "from src.models.xgboost.model import XGBoost\n",
    "\n",
    "# オプティマイザーの初期化\n",
    "optimizer = XGBoostOptimizer(\n",
    "    X_train=df_train_x_processed,\n",
    "    y_train=df_train_y,\n",
    "    score_function=accuracy_score,\n",
    "    n_trials=50,\n",
    "    n_splits=5,\n",
    "    random_state=42,\n",
    ")\n",
    "\n",
    "# パラメータの最適化を実行\n",
    "xgb_best_params, xgb_best_score = optimizer.optimize(\n",
    "    direction=\"maximize\"  # accuracy_scoreを最大化\n",
    ")\n",
    "\n",
    "print(\"Best parameters:\", xgb_best_params)\n",
    "print(\"Best score:\", xgb_best_score)"
   ]
  },
  {
   "cell_type": "code",
   "execution_count": 38,
   "metadata": {},
   "outputs": [
    {
     "name": "stdout",
     "output_type": "stream",
     "text": [
      "XGBoost CV scores: [0.8603351955307262, 0.8314606741573034, 0.8539325842696629, 0.8314606741573034, 0.8089887640449438]\n",
      "XGBoost Mean CV score: 0.8372355784319879\n"
     ]
    }
   ],
   "source": [
    "# XGBoostでの実装\n",
    "\n",
    "# XGBoostのパラメータ設定\n",
    "params = {**default_config[\"default_xgb_params\"], **xgb_best_params}\n",
    "\n",
    "oof_predictions_xgb = np.zeros(len(df_train_x_processed))\n",
    "scores_xgb = []\n",
    "\n",
    "for i, (train_, val_) in enumerate(kf.split(df_train_x_processed, df_train_y)):\n",
    "    x_train, x_val = df_train_x_processed[train_], df_train_x_processed[val_]\n",
    "    y_train = df_train_y[train_]\n",
    "    y_val = df_train_y[val_]\n",
    "\n",
    "    xgb_train = create_input_data_for_xgboost(x_train, y_train)\n",
    "    xgb_eval = create_input_data_for_xgboost(x_val, y_val)\n",
    "\n",
    "    model = XGBoost()\n",
    "    model.train(\n",
    "        params=params,\n",
    "        train_set=xgb_train,\n",
    "        valid_sets=xgb_eval,\n",
    "    )\n",
    "\n",
    "    y_val_pred = model.predict(x_val)\n",
    "    y_val_pred_binary = (y_val_pred > 0.5).astype(int)\n",
    "    oof_predictions_xgb[val_] = y_val_pred_binary\n",
    "    score = accuracy_score(y_val, y_val_pred_binary)\n",
    "    scores_xgb.append(score)\n",
    "\n",
    "print(f\"XGBoost CV scores: {scores_xgb}\")\n",
    "print(f\"XGBoost Mean CV score: {np.mean(scores_xgb)}\")"
   ]
  },
  {
   "cell_type": "code",
   "execution_count": 47,
   "metadata": {},
   "outputs": [
    {
     "name": "stderr",
     "output_type": "stream",
     "text": [
      "[I 2024-12-08 22:18:38,377] A new study created in memory with name: no-name-a61244d7-d559-47af-b352-d4f7dcc0bceb\n",
      "[I 2024-12-08 22:18:39,247] Trial 0 finished with value: 0.17625384470529157 and parameters: {'iterations': 2285, 'learning_rate': 0.2111875749059806, 'depth': 10, 'l2_leaf_reg': 9.146411177061944e-05, 'border_count': 122, 'bagging_temperature': 0.7763289280292456, 'random_strength': 0.0001390982018390234, 'colsample_bylevel': 0.5762431010061662}. Best is trial 0 with value: 0.17625384470529157.\n",
      "[I 2024-12-08 22:18:39,848] Trial 1 finished with value: 0.16047956813759337 and parameters: {'iterations': 2000, 'learning_rate': 0.017748736127213952, 'depth': 10, 'l2_leaf_reg': 4.2791784833440555e-07, 'border_count': 73, 'bagging_temperature': 0.4118561772333905, 'random_strength': 3.772078929563512, 'colsample_bylevel': 0.538178405329807}. Best is trial 0 with value: 0.17625384470529157.\n",
      "[I 2024-12-08 22:18:40,260] Trial 2 finished with value: 0.1515096353022409 and parameters: {'iterations': 2241, 'learning_rate': 0.0175811666965117, 'depth': 8, 'l2_leaf_reg': 0.2425336140342141, 'border_count': 172, 'bagging_temperature': 0.964846842168875, 'random_strength': 4.5231060864653366e-08, 'colsample_bylevel': 0.4785276908853561}. Best is trial 0 with value: 0.17625384470529157.\n",
      "[I 2024-12-08 22:18:40,508] Trial 3 finished with value: 0.16272048207896553 and parameters: {'iterations': 1973, 'learning_rate': 0.11694197868035226, 'depth': 4, 'l2_leaf_reg': 0.006312709849868569, 'border_count': 108, 'bagging_temperature': 0.8515275988160004, 'random_strength': 0.0006665971029882113, 'colsample_bylevel': 0.888264786843861}. Best is trial 0 with value: 0.17625384470529157.\n",
      "[I 2024-12-08 22:18:41,106] Trial 4 finished with value: 0.15937480384156677 and parameters: {'iterations': 1137, 'learning_rate': 0.04066352328713546, 'depth': 9, 'l2_leaf_reg': 0.007026030060740578, 'border_count': 166, 'bagging_temperature': 0.39937845765961133, 'random_strength': 0.00013811313199224497, 'colsample_bylevel': 0.5407058433179208}. Best is trial 0 with value: 0.17625384470529157.\n",
      "[I 2024-12-08 22:18:41,403] Trial 5 finished with value: 0.16047956813759337 and parameters: {'iterations': 1250, 'learning_rate': 0.044263936804039936, 'depth': 7, 'l2_leaf_reg': 6.131053253894139e-07, 'border_count': 216, 'bagging_temperature': 0.012244724492278203, 'random_strength': 0.0005991787447431118, 'colsample_bylevel': 0.41275086082249257}. Best is trial 0 with value: 0.17625384470529157.\n",
      "[I 2024-12-08 22:18:41,864] Trial 6 finished with value: 0.16382524637499216 and parameters: {'iterations': 2533, 'learning_rate': 0.027386330989750345, 'depth': 5, 'l2_leaf_reg': 0.10476303940148893, 'border_count': 121, 'bagging_temperature': 0.9470146829356846, 'random_strength': 5.546847586433151, 'colsample_bylevel': 0.5670195165452498}. Best is trial 0 with value: 0.17625384470529157.\n",
      "[I 2024-12-08 22:18:42,214] Trial 7 finished with value: 0.15823237712635743 and parameters: {'iterations': 2999, 'learning_rate': 0.02548104833350855, 'depth': 8, 'l2_leaf_reg': 5.240258983900589, 'border_count': 156, 'bagging_temperature': 0.8240163988913208, 'random_strength': 0.02084431704049451, 'colsample_bylevel': 0.49403411448121304}. Best is trial 0 with value: 0.17625384470529157.\n",
      "[I 2024-12-08 22:18:42,656] Trial 8 finished with value: 0.1705856506182914 and parameters: {'iterations': 1757, 'learning_rate': 0.10367363926174666, 'depth': 9, 'l2_leaf_reg': 0.03300963690235262, 'border_count': 36, 'bagging_temperature': 0.6887695512878865, 'random_strength': 2.2848215837668962e-07, 'colsample_bylevel': 0.8742113160781642}. Best is trial 0 with value: 0.17625384470529157.\n",
      "[I 2024-12-08 22:18:42,883] Trial 9 finished with value: 0.16160944071307515 and parameters: {'iterations': 640, 'learning_rate': 0.014982135997970747, 'depth': 4, 'l2_leaf_reg': 0.0005646566188277341, 'border_count': 173, 'bagging_temperature': 0.45727047888257144, 'random_strength': 0.08427083617269704, 'colsample_bylevel': 0.8259419444314143}. Best is trial 0 with value: 0.17625384470529157.\n",
      "[I 2024-12-08 22:18:43,166] Trial 10 finished with value: 0.1615906095034838 and parameters: {'iterations': 2728, 'learning_rate': 0.293387317903262, 'depth': 6, 'l2_leaf_reg': 2.4114908046035567e-05, 'border_count': 234, 'bagging_temperature': 0.6723749486661637, 'random_strength': 3.9277479932003085e-06, 'colsample_bylevel': 0.7017738758471735}. Best is trial 0 with value: 0.17625384470529157.\n",
      "[I 2024-12-08 22:18:43,979] Trial 11 finished with value: 0.18072939551817213 and parameters: {'iterations': 1591, 'learning_rate': 0.1266131415626991, 'depth': 10, 'l2_leaf_reg': 2.351588399650212e-05, 'border_count': 49, 'bagging_temperature': 0.6513663033382421, 'random_strength': 1.4135416138502284e-08, 'colsample_bylevel': 0.96886278444405}. Best is trial 11 with value: 0.18072939551817213.\n",
      "[I 2024-12-08 22:18:44,663] Trial 12 finished with value: 0.19194651936476054 and parameters: {'iterations': 1293, 'learning_rate': 0.29207800664427236, 'depth': 10, 'l2_leaf_reg': 2.5762014587710995e-05, 'border_count': 58, 'bagging_temperature': 0.6234998913828402, 'random_strength': 3.7822991690104456e-06, 'colsample_bylevel': 0.9727236348205446}. Best is trial 12 with value: 0.19194651936476054.\n",
      "[I 2024-12-08 22:18:45,487] Trial 13 finished with value: 0.1739564371351453 and parameters: {'iterations': 1323, 'learning_rate': 0.13129524975372883, 'depth': 10, 'l2_leaf_reg': 1.4503925012710444e-08, 'border_count': 35, 'bagging_temperature': 0.6108241910572131, 'random_strength': 1.2787447170744674e-08, 'colsample_bylevel': 0.9998927248107816}. Best is trial 12 with value: 0.19194651936476054.\n",
      "[I 2024-12-08 22:18:46,120] Trial 14 finished with value: 0.16498650429979286 and parameters: {'iterations': 861, 'learning_rate': 0.07567444175359986, 'depth': 9, 'l2_leaf_reg': 5.996336386277908e-06, 'border_count': 76, 'bagging_temperature': 0.24380394618048917, 'random_strength': 1.8584795362965835e-06, 'colsample_bylevel': 0.9965066706145621}. Best is trial 12 with value: 0.19194651936476054.\n",
      "[I 2024-12-08 22:18:46,458] Trial 15 finished with value: 0.167227418241165 and parameters: {'iterations': 1526, 'learning_rate': 0.18829346280306264, 'depth': 8, 'l2_leaf_reg': 0.0005126685188756123, 'border_count': 63, 'bagging_temperature': 0.5334397860269264, 'random_strength': 2.8945736515955074e-06, 'colsample_bylevel': 0.7629287616963373}. Best is trial 12 with value: 0.19194651936476054.\n",
      "[I 2024-12-08 22:18:46,746] Trial 16 finished with value: 0.16159688657334756 and parameters: {'iterations': 1621, 'learning_rate': 0.2786861215821826, 'depth': 7, 'l2_leaf_reg': 2.6335792490620563e-06, 'border_count': 92, 'bagging_temperature': 0.2621343203889252, 'random_strength': 2.2321488392889286e-07, 'colsample_bylevel': 0.9357103316519781}. Best is trial 12 with value: 0.19194651936476054.\n",
      "[I 2024-12-08 22:18:47,557] Trial 17 finished with value: 0.1661163768752746 and parameters: {'iterations': 1036, 'learning_rate': 0.1695822414976395, 'depth': 10, 'l2_leaf_reg': 2.3518262857472873e-08, 'border_count': 53, 'bagging_temperature': 0.5662998707438124, 'random_strength': 1.8837088343149568e-05, 'colsample_bylevel': 0.7973972996709571}. Best is trial 12 with value: 0.19194651936476054.\n",
      "[I 2024-12-08 22:18:48,174] Trial 18 finished with value: 0.15714016697005836 and parameters: {'iterations': 541, 'learning_rate': 0.07414327647435563, 'depth': 9, 'l2_leaf_reg': 2.105742708820348e-07, 'border_count': 95, 'bagging_temperature': 0.29644492935794353, 'random_strength': 1.4059515257187476e-07, 'colsample_bylevel': 0.6627394329755727}. Best is trial 12 with value: 0.19194651936476054.\n",
      "[I 2024-12-08 22:18:48,497] Trial 19 finished with value: 0.16161571778293896 and parameters: {'iterations': 862, 'learning_rate': 0.090955805558564, 'depth': 6, 'l2_leaf_reg': 5.3194157626821276e-05, 'border_count': 136, 'bagging_temperature': 0.7158311796650678, 'random_strength': 1.2707318740618677e-08, 'colsample_bylevel': 0.9306781830186786}. Best is trial 12 with value: 0.19194651936476054.\n",
      "[I 2024-12-08 22:18:48,837] Trial 20 finished with value: 0.15826376247567636 and parameters: {'iterations': 1435, 'learning_rate': 0.16936718904762535, 'depth': 7, 'l2_leaf_reg': 9.186805327289582e-06, 'border_count': 50, 'bagging_temperature': 0.0737492948942493, 'random_strength': 1.8702451954193588e-05, 'colsample_bylevel': 0.7362232779201079}. Best is trial 12 with value: 0.19194651936476054.\n",
      "[I 2024-12-08 22:18:49,561] Trial 21 finished with value: 0.16611637687527464 and parameters: {'iterations': 1878, 'learning_rate': 0.22402774674184733, 'depth': 10, 'l2_leaf_reg': 0.00026942179029475937, 'border_count': 87, 'bagging_temperature': 0.7996592418873777, 'random_strength': 0.01241593577442926, 'colsample_bylevel': 0.6363856571935318}. Best is trial 12 with value: 0.19194651936476054.\n",
      "[I 2024-12-08 22:18:50,350] Trial 22 finished with value: 0.1773460548615906 and parameters: {'iterations': 2263, 'learning_rate': 0.21707359789239775, 'depth': 10, 'l2_leaf_reg': 0.00011112452522514787, 'border_count': 117, 'bagging_temperature': 0.7790025680800854, 'random_strength': 2.8234612919395516e-05, 'colsample_bylevel': 0.6167971104694199}. Best is trial 12 with value: 0.19194651936476054.\n",
      "[I 2024-12-08 22:18:51,251] Trial 23 finished with value: 0.1717343544033645 and parameters: {'iterations': 2212, 'learning_rate': 0.15008381185938843, 'depth': 9, 'l2_leaf_reg': 0.0009086204920135396, 'border_count': 199, 'bagging_temperature': 0.6150833097072126, 'random_strength': 1.003352872891936e-06, 'colsample_bylevel': 0.9448520930270488}. Best is trial 12 with value: 0.19194651936476054.\n",
      "[I 2024-12-08 22:18:51,860] Trial 24 finished with value: 0.1761910740066537 and parameters: {'iterations': 1648, 'learning_rate': 0.2493884135002366, 'depth': 10, 'l2_leaf_reg': 2.521201358598202e-06, 'border_count': 54, 'bagging_temperature': 0.7367668907092413, 'random_strength': 3.846213903780069e-05, 'colsample_bylevel': 0.6283442961918864}. Best is trial 12 with value: 0.19194651936476054.\n",
      "[I 2024-12-08 22:18:52,665] Trial 25 finished with value: 0.15262695373799512 and parameters: {'iterations': 2079, 'learning_rate': 0.010573433925123938, 'depth': 9, 'l2_leaf_reg': 0.0032533268567691786, 'border_count': 108, 'bagging_temperature': 0.8926823151066332, 'random_strength': 0.003241249543052702, 'colsample_bylevel': 0.8440776767115027}. Best is trial 12 with value: 0.19194651936476054.\n",
      "[I 2024-12-08 22:18:52,977] Trial 26 finished with value: 0.16160944071307515 and parameters: {'iterations': 2477, 'learning_rate': 0.06722533107225087, 'depth': 8, 'l2_leaf_reg': 4.6077598169197496e-05, 'border_count': 32, 'bagging_temperature': 0.6427862053033357, 'random_strength': 7.075471205298828e-07, 'colsample_bylevel': 0.8938558159628318}. Best is trial 12 with value: 0.19194651936476054.\n",
      "[I 2024-12-08 22:18:53,799] Trial 27 finished with value: 0.17847592743707238 and parameters: {'iterations': 1798, 'learning_rate': 0.14762673770661253, 'depth': 10, 'l2_leaf_reg': 0.00018852555976697156, 'border_count': 70, 'bagging_temperature': 0.5655590286538378, 'random_strength': 8.007856001734057e-06, 'colsample_bylevel': 0.7742163804468901}. Best is trial 12 with value: 0.19194651936476054.\n",
      "[I 2024-12-08 22:18:54,322] Trial 28 finished with value: 0.16949971753185614 and parameters: {'iterations': 1740, 'learning_rate': 0.1332060453894103, 'depth': 9, 'l2_leaf_reg': 9.318787593980579e-08, 'border_count': 67, 'bagging_temperature': 0.5092308004185023, 'random_strength': 6.137339558586449e-06, 'colsample_bylevel': 0.9691643939511411}. Best is trial 12 with value: 0.19194651936476054.\n",
      "[I 2024-12-08 22:18:55,257] Trial 29 finished with value: 0.1739627142050091 and parameters: {'iterations': 1416, 'learning_rate': 0.05249981582531392, 'depth': 10, 'l2_leaf_reg': 1.6655515304822683e-05, 'border_count': 135, 'bagging_temperature': 0.4641086926766925, 'random_strength': 0.00013399452847675305, 'colsample_bylevel': 0.785425579300429}. Best is trial 12 with value: 0.19194651936476054.\n",
      "[I 2024-12-08 22:18:56,384] Trial 30 finished with value: 0.1672336953110288 and parameters: {'iterations': 973, 'learning_rate': 0.095735837653305, 'depth': 10, 'l2_leaf_reg': 1.6128177898062238e-06, 'border_count': 83, 'bagging_temperature': 0.3617255227952209, 'random_strength': 5.689568147117982e-08, 'colsample_bylevel': 0.850636916280095}. Best is trial 12 with value: 0.19194651936476054.\n",
      "[I 2024-12-08 22:18:57,172] Trial 31 finished with value: 0.1683447366769192 and parameters: {'iterations': 2477, 'learning_rate': 0.21317436036221896, 'depth': 10, 'l2_leaf_reg': 0.00030212214458084447, 'border_count': 104, 'bagging_temperature': 0.7591580053812729, 'random_strength': 2.927265632899427e-05, 'colsample_bylevel': 0.6706374415520376}. Best is trial 12 with value: 0.19194651936476054.\n",
      "[I 2024-12-08 22:18:57,835] Trial 32 finished with value: 0.1739689912748729 and parameters: {'iterations': 1854, 'learning_rate': 0.2113931105075122, 'depth': 10, 'l2_leaf_reg': 0.00011664480589750613, 'border_count': 49, 'bagging_temperature': 0.577192071817864, 'random_strength': 8.170208741322581e-05, 'colsample_bylevel': 0.6190639960972794}. Best is trial 12 with value: 0.19194651936476054.\n",
      "[I 2024-12-08 22:18:58,733] Trial 33 finished with value: 0.16725880359048398 and parameters: {'iterations': 2093, 'learning_rate': 0.15700498019644693, 'depth': 10, 'l2_leaf_reg': 9.513916405109045e-05, 'border_count': 122, 'bagging_temperature': 0.7692106074650971, 'random_strength': 6.344199998286797e-06, 'colsample_bylevel': 0.7263313706573088}. Best is trial 12 with value: 0.19194651936476054.\n",
      "[I 2024-12-08 22:18:59,263] Trial 34 finished with value: 0.18071056430858073 and parameters: {'iterations': 2333, 'learning_rate': 0.2999883696470537, 'depth': 9, 'l2_leaf_reg': 0.00212687570541404, 'border_count': 66, 'bagging_temperature': 0.8678342222893377, 'random_strength': 3.086393058444345e-07, 'colsample_bylevel': 0.9072655176240072}. Best is trial 12 with value: 0.19194651936476054.\n",
      "[I 2024-12-08 22:18:59,789] Trial 35 finished with value: 0.18183415981419876 and parameters: {'iterations': 1214, 'learning_rate': 0.2993285159244922, 'depth': 9, 'l2_leaf_reg': 0.0022149749091366997, 'border_count': 69, 'bagging_temperature': 0.9034882121375996, 'random_strength': 5.2373681768368055e-08, 'colsample_bylevel': 0.9158562060904306}. Best is trial 12 with value: 0.19194651936476054.\n",
      "[I 2024-12-08 22:19:00,149] Trial 36 finished with value: 0.17620990521624508 and parameters: {'iterations': 1202, 'learning_rate': 0.29742866281766567, 'depth': 8, 'l2_leaf_reg': 0.0023746897912884997, 'border_count': 61, 'bagging_temperature': 0.917948590862786, 'random_strength': 4.1875065453190884e-08, 'colsample_bylevel': 0.9093520290297286}. Best is trial 12 with value: 0.19194651936476054.\n",
      "[I 2024-12-08 22:19:00,736] Trial 37 finished with value: 0.17061075889774652 and parameters: {'iterations': 1368, 'learning_rate': 0.25196766084670125, 'depth': 9, 'l2_leaf_reg': 0.02275908487216203, 'border_count': 80, 'bagging_temperature': 0.9793862635576318, 'random_strength': 5.257688801551006e-07, 'colsample_bylevel': 0.9665550964780806}. Best is trial 12 with value: 0.19194651936476054.\n",
      "[I 2024-12-08 22:19:01,125] Trial 38 finished with value: 0.15711505869060324 and parameters: {'iterations': 1097, 'learning_rate': 0.1178880693371806, 'depth': 8, 'l2_leaf_reg': 2.3634014966721577, 'border_count': 44, 'bagging_temperature': 0.8674713345738001, 'random_strength': 4.677260038572599e-08, 'colsample_bylevel': 0.9148205034678445}. Best is trial 12 with value: 0.19194651936476054.\n",
      "[I 2024-12-08 22:19:01,622] Trial 39 finished with value: 0.1784633732973448 and parameters: {'iterations': 1538, 'learning_rate': 0.18406099484759245, 'depth': 9, 'l2_leaf_reg': 0.016219439220881975, 'border_count': 74, 'bagging_temperature': 0.8268654970364258, 'random_strength': 1.1791179779450397e-08, 'colsample_bylevel': 0.8552304986173058}. Best is trial 12 with value: 0.19194651936476054.\n",
      "[I 2024-12-08 22:19:02,231] Trial 40 finished with value: 0.16385663172431109 and parameters: {'iterations': 2987, 'learning_rate': 0.25266791942538136, 'depth': 9, 'l2_leaf_reg': 0.338425531499344, 'border_count': 98, 'bagging_temperature': 0.9372623671994967, 'random_strength': 1.0298777261524788e-07, 'colsample_bylevel': 0.9611004355552302}. Best is trial 12 with value: 0.19194651936476054.\n",
      "[I 2024-12-08 22:19:03,115] Trial 41 finished with value: 0.16835101374678302 and parameters: {'iterations': 1285, 'learning_rate': 0.03392491516060331, 'depth': 10, 'l2_leaf_reg': 0.001718647851536814, 'border_count': 67, 'bagging_temperature': 0.6578133132882306, 'random_strength': 2.7168986389472757e-07, 'colsample_bylevel': 0.8909420232069373}. Best is trial 12 with value: 0.19194651936476054.\n",
      "[I 2024-12-08 22:19:03,591] Trial 42 finished with value: 0.17173435440336451 and parameters: {'iterations': 1953, 'learning_rate': 0.142103438342742, 'depth': 9, 'l2_leaf_reg': 0.009194120727245339, 'border_count': 42, 'bagging_temperature': 0.9878720883267663, 'random_strength': 3.4304032049611717e-08, 'colsample_bylevel': 0.8111297986559126}. Best is trial 12 with value: 0.19194651936476054.\n",
      "[I 2024-12-08 22:19:04,373] Trial 43 finished with value: 0.15488669888895862 and parameters: {'iterations': 2692, 'learning_rate': 0.24779868660320833, 'depth': 10, 'l2_leaf_reg': 0.0011830274230389373, 'border_count': 60, 'bagging_temperature': 0.8540724769293396, 'random_strength': 1.2622378225848636, 'colsample_bylevel': 0.8719118807942072}. Best is trial 12 with value: 0.19194651936476054.\n",
      "[I 2024-12-08 22:19:04,996] Trial 44 finished with value: 0.16497395016006527 and parameters: {'iterations': 1753, 'learning_rate': 0.1858768939473814, 'depth': 8, 'l2_leaf_reg': 0.0718648223505355, 'border_count': 253, 'bagging_temperature': 0.720360234251132, 'random_strength': 1.1731881007183063e-06, 'colsample_bylevel': 0.9789016141441902}. Best is trial 12 with value: 0.19194651936476054.\n",
      "[I 2024-12-08 22:19:05,630] Trial 45 finished with value: 0.1650053355093842 and parameters: {'iterations': 1208, 'learning_rate': 0.1169076611915127, 'depth': 9, 'l2_leaf_reg': 0.0002332138860896949, 'border_count': 79, 'bagging_temperature': 0.44510569294687885, 'random_strength': 3.3175059591844257e-07, 'colsample_bylevel': 0.9200833679140794}. Best is trial 12 with value: 0.19194651936476054.\n",
      "[I 2024-12-08 22:19:05,873] Trial 46 finished with value: 0.1694683321825372 and parameters: {'iterations': 1481, 'learning_rate': 0.2911344511871939, 'depth': 6, 'l2_leaf_reg': 0.004416542496589777, 'border_count': 72, 'bagging_temperature': 0.56748163999494, 'random_strength': 0.0006657192788417847, 'colsample_bylevel': 0.9460688832851325}. Best is trial 12 with value: 0.19194651936476054.\n",
      "[I 2024-12-08 22:19:06,630] Trial 47 finished with value: 0.16724624945075642 and parameters: {'iterations': 744, 'learning_rate': 0.05816068121180281, 'depth': 10, 'l2_leaf_reg': 2.7302902761792276e-05, 'border_count': 41, 'bagging_temperature': 0.5163634913123861, 'random_strength': 9.03565855351416e-06, 'colsample_bylevel': 0.9982819792155039}. Best is trial 12 with value: 0.19194651936476054.\n",
      "[I 2024-12-08 22:19:06,870] Trial 48 finished with value: 0.15936224970183918 and parameters: {'iterations': 1617, 'learning_rate': 0.1920636013358546, 'depth': 5, 'l2_leaf_reg': 6.180819370504471e-06, 'border_count': 57, 'bagging_temperature': 0.688945115803218, 'random_strength': 1.1300479931509345e-07, 'colsample_bylevel': 0.8256213573697093}. Best is trial 12 with value: 0.19194651936476054.\n",
      "[I 2024-12-08 22:19:07,469] Trial 49 finished with value: 0.16609754566568327 and parameters: {'iterations': 1137, 'learning_rate': 0.08425167556549906, 'depth': 9, 'l2_leaf_reg': 0.0006338245527812668, 'border_count': 89, 'bagging_temperature': 0.6151926315322855, 'random_strength': 2.1462152631284804e-06, 'colsample_bylevel': 0.7719119209929237}. Best is trial 12 with value: 0.19194651936476054.\n"
     ]
    },
    {
     "name": "stdout",
     "output_type": "stream",
     "text": [
      "Best parameters: {'iterations': 1293, 'learning_rate': 0.29207800664427236, 'depth': 10, 'l2_leaf_reg': 2.5762014587710995e-05, 'border_count': 58, 'bagging_temperature': 0.6234998913828402, 'random_strength': 3.7822991690104456e-06, 'colsample_bylevel': 0.9727236348205446}\n",
      "Best score: 0.19194651936476054\n"
     ]
    }
   ],
   "source": [
    "from sklearn.metrics import mean_squared_error\n",
    "from src.optimizer.catboost import CatBoostOptimizer\n",
    "from src.models.catboost.preprocess import create_input_data_for_catboost\n",
    "from src.models.catboost.model import CatBoost\n",
    "\n",
    "# オプティマイザーの初期化\n",
    "optimizer = CatBoostOptimizer(\n",
    "    X_train=df_train_x_processed,\n",
    "    y_train=df_train_y,\n",
    "    score_function=mean_squared_error,\n",
    "    n_trials=50,\n",
    "    n_splits=5,\n",
    "    random_state=42,\n",
    ")\n",
    "\n",
    "# パラメータの最適化を実行\n",
    "ctb_best_params, ctb_best_score = optimizer.optimize(direction=\"maximize\")\n",
    "\n",
    "print(\"Best parameters:\", ctb_best_params)\n",
    "print(\"Best score:\", ctb_best_score)"
   ]
  },
  {
   "cell_type": "code",
   "execution_count": 46,
   "metadata": {},
   "outputs": [
    {
     "name": "stdout",
     "output_type": "stream",
     "text": [
      "CatBoost CV scores: [0.8268156424581006, 0.8595505617977528, 0.8370786516853933, 0.8089887640449438, 0.7752808988764045]\n",
      "CatBoost Mean CV score: 0.821542903772519\n"
     ]
    }
   ],
   "source": [
    "# # CatBoostでの実装\n",
    "# from src.models.catboost.preprocess import create_input_data_for_catboost\n",
    "# from src.models.catboost.model import CatBoost\n",
    "\n",
    "# # CatBoostのパラメータ設定\n",
    "params = {\n",
    "    **default_config[\"default_catboost_params\"],\n",
    "    **ctb_best_params,\n",
    "}\n",
    "\n",
    "\n",
    "oof_predictions_cb = np.zeros(len(df_train_x_processed))\n",
    "scores_cb = []\n",
    "\n",
    "for i, (train_, val_) in enumerate(kf.split(df_train_x_processed, df_train_y)):\n",
    "    x_train, x_val = df_train_x_processed[train_], df_train_x_processed[val_]\n",
    "    y_train = df_train_y[train_]\n",
    "    y_val = df_train_y[val_]\n",
    "\n",
    "    cb_train = create_input_data_for_catboost(x_train, y_train)\n",
    "    cb_eval = create_input_data_for_catboost(x_val, y_val)\n",
    "\n",
    "    model = CatBoost()\n",
    "    model.train(\n",
    "        params=params,\n",
    "        train_set=cb_train,\n",
    "        valid_sets=cb_eval,\n",
    "    )\n",
    "\n",
    "    y_val_pred = model.predict(x_val)\n",
    "    y_val_pred_binary = (y_val_pred > 0.5).astype(int)\n",
    "    oof_predictions_cb[val_] = y_val_pred_binary\n",
    "    score = accuracy_score(y_val, y_val_pred_binary)\n",
    "    scores_cb.append(score)\n",
    "\n",
    "print(f\"CatBoost CV scores: {scores_cb}\")\n",
    "print(f\"CatBoost Mean CV score: {np.mean(scores_cb)}\")"
   ]
  }
 ],
 "metadata": {
  "kernelspec": {
   "display_name": "Python 3",
   "language": "python",
   "name": "python3"
  },
  "language_info": {
   "codemirror_mode": {
    "name": "ipython",
    "version": 3
   },
   "file_extension": ".py",
   "mimetype": "text/x-python",
   "name": "python",
   "nbconvert_exporter": "python",
   "pygments_lexer": "ipython3",
   "version": "3.10.15"
  }
 },
 "nbformat": 4,
 "nbformat_minor": 2
}
